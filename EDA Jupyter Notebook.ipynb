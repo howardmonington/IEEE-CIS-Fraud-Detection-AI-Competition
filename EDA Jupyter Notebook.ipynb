{
 "cells": [
  {
   "cell_type": "markdown",
   "metadata": {},
   "source": [
    "# Import Libraries"
   ]
  },
  {
   "cell_type": "code",
   "execution_count": 1,
   "metadata": {},
   "outputs": [],
   "source": [
    "import numpy as np\n",
    "import pandas as pd\n",
    "pd.set_option('max_columns', None)"
   ]
  },
  {
   "cell_type": "markdown",
   "metadata": {},
   "source": [
    "# Import Data"
   ]
  },
  {
   "cell_type": "code",
   "execution_count": 2,
   "metadata": {},
   "outputs": [],
   "source": [
    "raw_train_identity= pd.read_csv(r'C:\\Users\\lukem\\Desktop\\Github AI Projects\\Data for ai competitions\\train_identity.csv')\n",
    "raw_test_identity = pd.read_csv(r'C:\\Users\\lukem\\Desktop\\Github AI Projects\\Data for ai competitions\\test_identity.csv')\n",
    "raw_train_transaction = pd.read_csv(r'C:\\Users\\lukem\\Desktop\\Github AI Projects\\Data for ai competitions\\train_transaction.csv')\n",
    "raw_test_transaction = pd.read_csv(r'C:\\Users\\lukem\\Desktop\\Github AI Projects\\Data for ai competitions\\test_transaction.csv')"
   ]
  },
  {
   "cell_type": "code",
   "execution_count": 3,
   "metadata": {},
   "outputs": [],
   "source": [
    "train = pd.merge(raw_train_transaction, raw_train_identity, on='TransactionID', how ='left')\n",
    "test = pd.merge(raw_test_transaction, raw_test_identity, on='TransactionID',how='left')"
   ]
  },
  {
   "cell_type": "code",
   "execution_count": null,
   "metadata": {},
   "outputs": [],
   "source": []
  }
 ],
 "metadata": {
  "kernelspec": {
   "display_name": "Python 3",
   "language": "python",
   "name": "python3"
  },
  "language_info": {
   "codemirror_mode": {
    "name": "ipython",
    "version": 3
   },
   "file_extension": ".py",
   "mimetype": "text/x-python",
   "name": "python",
   "nbconvert_exporter": "python",
   "pygments_lexer": "ipython3",
   "version": "3.8.3"
  }
 },
 "nbformat": 4,
 "nbformat_minor": 4
}
